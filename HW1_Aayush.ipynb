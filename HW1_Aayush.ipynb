{
  "nbformat": 4,
  "nbformat_minor": 0,
  "metadata": {
    "colab": {
      "name": "Untitled0.ipynb",
      "provenance": []
    },
    "kernelspec": {
      "name": "python3",
      "display_name": "Python 3"
    }
  },
  "cells": [
    {
      "cell_type": "code",
      "metadata": {
        "id": "qXNTC9vgtvKH"
      },
      "source": [
        "1) How would you define Machine Learning?\r\n",
        "\r\n",
        "Machine Learning is the field of study in which computer can be made to learn without being actually programmed."
      ],
      "execution_count": null,
      "outputs": []
    },
    {
      "cell_type": "code",
      "metadata": {
        "id": "FLMrV3Wmu3LR"
      },
      "source": [
        "2) What are the differences between Supervised and Unsupervised Learning? Specify example 3 algorithms for each of these.\r\n",
        "\r\n",
        "Supervised Learning: In this the computer is given the data. So there is a relationship between inout and output. This data is known as train dataset.\r\n",
        "So based on this data, computer predicts the target variable for the given input value. supervised learning is divided in to Regression and classification\r\n",
        "problem.\r\n",
        "\r\n",
        "Ex: classifying emails as spam and non-spam is a classification problem.\r\n",
        "\r\n",
        "Unsupervised Learning: In this no input output relationship is given. We dont know the effect of variables. So we can build structure of data by \r\n",
        "clustering on basis of relationship between variable values.\r\n",
        "\r\n",
        "Ex: classify music and vocals for mixture of both."
      ],
      "execution_count": null,
      "outputs": []
    },
    {
      "cell_type": "code",
      "metadata": {
        "id": "fNn3APaByn3x"
      },
      "source": [
        "3) What are the test and validation set, and why would you want to use them?\r\n",
        "\r\n",
        "Without validation and test set we can not use model for real life problems. So after traning the model we use validation set to ensure correctness of\r\n",
        "the model. This set is used in data preperation step. While Test set is used in the final step after which model can be used for real problems. \r\n",
        "Test set is used to compare performance of different models."
      ],
      "execution_count": null,
      "outputs": []
    },
    {
      "cell_type": "code",
      "metadata": {
        "id": "hb5FU7Lc0BQ6"
      },
      "source": [
        "4) What are the main preprocessing steps? Explain them in detail. Why we need to prepare our data?\r\n",
        "\r\n",
        "1. Duplicate values: Duplicate values can lead to bias for certain data object. So removing duplicate values is must.\r\n",
        "\r\n",
        "2. Imbalanced Data: If number of classes are different for different variables than it is called imbalanced dataset. The data which has less classes \r\n",
        "is oversampled or data with more classes is undersampled to make data set equal.\r\n",
        "\r\n",
        "3. Missing values: The missing values are droped or can be filled by mean values in case normal distrbution and median values in other cases.\r\n",
        "\r\n",
        "4. Outlier Detection: They are the data set values which dont fit in the model in some way. They are removed while traning the algorithm. Interquartile\r\n",
        "range is used to detect outliers.\r\n",
        "\r\n",
        "5. feature scaling: It is the process to normalise the data set for the uniformity. It can be done by standardization or normalisation.\r\n",
        "\r\n",
        "6. Bucketing: This is used to reduce small observation data errors. Whole data set is dived in to small bins. Each bin is assigned a value based on the\r\n",
        "data values inside that bin.\r\n",
        "\r\n",
        "7. Feature Extraction: It is the process in which the unrelated(unwanted) variables are removed from the data set. This will help in easy processing of\r\n",
        "data set.\r\n",
        "\r\n",
        "8. Feature Encoding: In this the data is converted in to numeric form which can be processed by the algorithm. This can be don by either nominal method \r\n",
        "or ordinal method. In nominal method one-hot technique is used.\r\n",
        "\r\n",
        "9. Train or Validation or Test Split: The data set can be split in to 2 or 3 data sets. Traiin data set is used for traning the model.\r\n",
        "After traning the model we use validation set to ensure correctness of the model. This set is used in data preperation step. While Test \r\n",
        "set is used in the final step after which model can be used for real problems.  Test set is used to compare performance of different models.\r\n",
        "\r\n",
        "10. cross validation: In this the data set is split in to mutiple sets. In each round different data set in picked as a validation set. This is known \r\n",
        "as cross validation."
      ],
      "execution_count": null,
      "outputs": []
    },
    {
      "cell_type": "code",
      "metadata": {
        "id": "myQHSXAd7cBL"
      },
      "source": [
        "5) How you can explore continuos and discrete variables?\r\n",
        "\r\n",
        "We can explore continuous and discrete variables by the graphical representation of the data set provided."
      ],
      "execution_count": null,
      "outputs": []
    },
    {
      "cell_type": "code",
      "metadata": {
        "id": "ITws2qYL8GeM"
      },
      "source": [
        "6) Analyse the plot given below. (What is the plot and variable type, check the distribution and make comment about how you can preproccess it.)\r\n",
        "\r\n",
        "The variable given in the plot is continuous. \r\n",
        "\r\n",
        "In preprocessing period, the data can be averaged on basis of its standard deviation. The missing values in the graph can be filled by the median of \r\n",
        "the given data."
      ],
      "execution_count": null,
      "outputs": []
    }
  ]
}